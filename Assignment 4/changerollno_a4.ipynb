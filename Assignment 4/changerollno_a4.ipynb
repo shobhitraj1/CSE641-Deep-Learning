{
 "cells": [
  {
   "cell_type": "markdown",
   "metadata": {
    "deletable": false,
    "editable": false,
    "nbgrader": {
     "cell_type": "markdown",
     "checksum": "c1121513bfe0888b16a2ff9c70e69761",
     "grade": false,
     "grade_id": "cell-a8ceb76219db9874",
     "locked": true,
     "schema_version": 3,
     "solution": false,
     "task": false
    }
   },
   "source": [
    "# Assignment 4\n",
    "## ✅ Rename the filename with your roll number. E.g. if your roll number is `MT24003` then rename the file `MT24003_a4.ipynb`.\n",
    "## ✅ Write code only in the sections marked with `# YOUR CODE HERE`. No, you can NOT write code anywhere else.\n",
    "## ✅ Download and extract the `data.zip` folder next to this file. If you extract it correctly, you will have a `data` folder next to this file.\n",
    "\n",
    "## ❌ Do not modify any other function or class definitions; doing so may lead to the autograder failing to judge your submission, resulting in a zero.\n",
    "## ❌ Deleting or adding new cells may lead to the `autograder` failing to judge your submission, resulting in a zero. Even if a cell is empty, do NOT delete it.\n",
    "## ❌ Do NOT install / import any other libraries. You should be able to solve all the questions using only the libraries imported below."
   ]
  },
  {
   "cell_type": "code",
   "execution_count": null,
   "metadata": {
    "deletable": false,
    "editable": false,
    "nbgrader": {
     "cell_type": "code",
     "checksum": "2f3c401f3a557939f85826e9901d19b0",
     "grade": false,
     "grade_id": "cell-ae6b0b3eb4fe6def",
     "locked": true,
     "schema_version": 3,
     "solution": false,
     "task": false
    }
   },
   "outputs": [],
   "source": [
    "!pip install torch==2.1.2 torchvision==0.16.2 torchaudio==2.1.2 -q\n",
    "!pip install numpy==1.25.2 -q\n",
    "!pip install soundfile==0.13.0 -q\n",
    "!pip install pandas==2.2.3 -q\n",
    "!pip install matplotlib==3.9.4 -q\n",
    "!pip install scikit-image==0.21.0 -q\n",
    "!pip install tqdm==4.67.1 -q"
   ]
  },
  {
   "cell_type": "code",
   "execution_count": null,
   "metadata": {},
   "outputs": [],
   "source": [
    "import torch\n",
    "import numpy as np\n",
    "import pandas as pd\n",
    "import matplotlib.pyplot as plt"
   ]
  },
  {
   "cell_type": "markdown",
   "metadata": {
    "deletable": false,
    "editable": false,
    "nbgrader": {
     "cell_type": "markdown",
     "checksum": "e6e15fb6e7a0bb4025ced350d4fb1aa7",
     "grade": false,
     "grade_id": "cell-a76c8f2d9fb4dbbd",
     "locked": true,
     "schema_version": 3,
     "solution": false,
     "task": false
    }
   },
   "source": [
    "# `Stock Price Prediction LSTM Model`\n",
    "The task is to train an LSTM model to predict the stock price of `ASIANPAINT.NS`. Your model will be evaluated based on its ability to predict the stock price for the hourly closing price for 5 days after the submission deadline.\n",
    "\n",
    "1. Collect your own data for stock prices.\n",
    "   1. Feel free to collect data from any source you like. You can use APIs, web scraping (gotcha: look at robots.txt), or any other method to collect the data.\n",
    "   2. Recommendation: dump data manually from [yahoofinance](https://finance.yahoo.com/chart/ASIANPAINT.NS?guccounter=1#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) or use [yfinance](https://github.com/ranaroussi/yfinance) library.\n",
    "   3. For simplicity, you can consider the Indian stock market timings (9:15 to 15:15) from Monday to Friday. After Friday, you may / may not consider the data for Saturday and Sunday, i.e. either skip the 2 days or append zeros for the period of 2 days. \n",
    "   4. You may also encounter weekdays when the stock market is closed. Again, you can either skip these days or append zeros for the entire day.\n",
    "\n",
    "2. Train the `StockPriceLSTM` model using the data you collected.\n",
    "   1. **You MUST** use the `StockPriceLSTM` class defined below. Fill in the code where it says `# YOUR CODE HERE`.\n",
    "   2. **You MUST** use `torch.nn.LSTM` layer to implement the model. Additionally, you can use any other layers that you think are necessary except mordern sequence modelling architectures like transformers or its variants.\n",
    "   3. **You MUST** implement the input to the model such that it accepts a sequence of stock prices. This sequence can be of any length. Thus, you must forecast the stock price in an autoregressive manner.\n",
    "   4. **You MUST** call the `save_model_weights` method of the `StockPriceLSTM` class to save your model weights. The model weights will be used to evaluate your model. Missing this step will result in a zero.\n",
    "   5. Optionally, you can fill code in `preprocess_data` method to implement any data preprocessing steps. And, `postprocess_data` method to implement any prediction postprocessing steps.\n",
    "   6. Your model will be evaluated at predicting the 15-minute closing price (from 9:15 to 15:15) for the period of next 5 days (i.e. 5*25=125 values). Attached files `past_5_days.csv` and `next_5_days.csv` contain dummy values for now. After submission, these files will be replaces with fresh market from before the submission deadline and 5 days after the submission deadline. So you will be able to see the performance of your model with live data!\n",
    "   7. Run the `sanity_check` function to ensure that your model runs correctly. The function will plot the predicted stock prices for the next 5 days given the dummy data. So while the MSE score may not be very good, you can at least check if your pipeline is running correctly.\n",
    "   8. You can use any optimizer, hyperparameters, etc.\n",
    "   9. You can use any data preprocessing steps.\n",
    "\n",
    "3. Submit a single .zip file with the following files:\n",
    "   * ```\n",
    "        changerollno_a4.zip\n",
    "            ├── changerollno_a4.ipynb\n",
    "            └── trained_lstm.pth\n",
    "    ```\n",
    "\n",
    "**GRADING** [Total: 5]\n",
    "1. `1` point if the code in the cell marked with `# tests for StockPriceLSTM` runs without any errors on hidden test cases, otherwise `0` points. No partial points for this question.\n",
    "2. Performance based on the MSE score of the model on the test data.\n",
    "   * `4` points if MSE < 20\n",
    "   * `3` points if 20 <= MSE < 100\n",
    "   * `2` points if 100 <= MSE < 1000\n",
    "   * `1` point if 1000 <= MSE < 5000\n",
    "   * `0` points if MSE >= 5000"
   ]
  },
  {
   "cell_type": "code",
   "execution_count": null,
   "metadata": {
    "deletable": false,
    "nbgrader": {
     "cell_type": "code",
     "checksum": "4a6bb919e1f53238400efdcf5c0feab2",
     "grade": false,
     "grade_id": "cell-bdcf337b94df5889",
     "locked": false,
     "schema_version": 3,
     "solution": true,
     "task": false
    }
   },
   "outputs": [],
   "source": [
    "class StockPriceLSTM(torch.nn.Module):\n",
    "    def __init__(self):\n",
    "        super(StockPriceLSTM, self).__init__()\n",
    "        # YOUR CODE HERE\n",
    "        raise NotImplementedError()\n",
    "    \n",
    "    def forward(self, x):\n",
    "        \"\"\"Forward function must accept a tensor of any length and return a floating \n",
    "            point number representing the forecasted value for the next time step.\n",
    "\n",
    "        Args:\n",
    "            x (torch.Tensor): A tensor of shape (batch_size, sequence_length, input_size) NOTE: the sequence_length can be variable.\n",
    "\n",
    "        Returns:\n",
    "            float: The forecasted value for the next time step.\n",
    "        \"\"\"\n",
    "        # YOUR CODE HERE\n",
    "        raise NotImplementedError()\n",
    "    \n",
    "    def preprocess_data(self, data):\n",
    "        \"\"\"Optional method to preprocess the data before training the model.\n",
    "\n",
    "        Args:\n",
    "            data (np.array): A numpy array of shape (num_samples,) containing the raw data.\n",
    "\n",
    "        Returns:\n",
    "            np.array: A numpy array of shape (num_samples,) containing the preprocessed data.\n",
    "        \"\"\"\n",
    "        # YOUR CODE HERE\n",
    "        raise NotImplementedError()\n",
    "    \n",
    "    def postprocess_data(self, data):\n",
    "        \"\"\"Optional method to postprocess the data after training the model.\n",
    "\n",
    "        Args:\n",
    "            data (np.array): A numpy array of shape (num_samples,) containing the model's predictions.\n",
    "\n",
    "        Returns:\n",
    "            np.array: A numpy array of shape (num_samples,) containing the postprocessed data.\n",
    "        \"\"\"\n",
    "        # YOUR CODE HERE\n",
    "        raise NotImplementedError()\n",
    "    \n",
    "    def save_model_weights(self):\n",
    "        torch.save(self.state_dict(), \"trained_lstm.pth\")\n",
    "    \n",
    "    def load_model_weights(self):\n",
    "        self.load_state_dict(torch.load(\"trained_lstm.pth\"))\n",
    "    \n",
    "    def predict_for_next_5_days(self):\n",
    "        df_last_5_days = pd.read_csv('past_5_days.csv')\n",
    "        raw_last_5_days = df_last_5_days.loc[:, \"Close\"].values\n",
    "        try:\n",
    "            last_5_days = self.preprocess_data(raw_last_5_days)\n",
    "        except:\n",
    "            print(\"no preprocessing\")\n",
    "        last_5_days_datetime = df_last_5_days.loc[:, \"Datetime\"].values\n",
    "        df_next_5_days = pd.read_csv('next_5_days.csv')\n",
    "        next_5_days = df_next_5_days.loc[:, \"Close\"].values\n",
    "        next_5_days_datetime = df_next_5_days.loc[:, \"Datetime\"].values\n",
    "        predictions = []\n",
    "        \n",
    "        self.eval()\n",
    "        with torch.no_grad():\n",
    "            input_sequence = last_5_days.copy()\n",
    "            \n",
    "            for _ in range(5*25):\n",
    "                x = torch.FloatTensor(input_sequence[-5*25:]).unsqueeze(0).unsqueeze(-1)\n",
    "                \n",
    "                next_value = self(x).item()\n",
    "                predictions.append(next_value)\n",
    "                \n",
    "                input_sequence = np.append(input_sequence, next_value)\n",
    "            \n",
    "            try:\n",
    "                predictions = self.postprocess_data(np.array(predictions))\n",
    "            except:\n",
    "                print(\"no postprocessing\")\n",
    "            plt.figure(figsize=(10, 5))\n",
    "            sequence_length = len(last_5_days)\n",
    "            prediction_length = len(predictions)\n",
    "            \n",
    "            past_indices = np.arange(0, sequence_length)\n",
    "            plt.plot(past_indices, raw_last_5_days, 'b-', label='Past 5 Days (5*25 values)')\n",
    "            \n",
    "            future_indices = np.arange(sequence_length, sequence_length + prediction_length)\n",
    "            plt.plot(future_indices, predictions, 'r--', label='Predicted Next 5 Days')\n",
    "            \n",
    "            if next_5_days is not None:\n",
    "                plt.plot(future_indices, next_5_days, 'g-', label='Actual Next 5 Days')\n",
    "                mse = np.mean((np.array(predictions) - next_5_days) ** 2)\n",
    "                plt.title(f'LSTM Autoregressive Prediction (MSE: {mse:.4f})')\n",
    "                print(f'MSE: {mse:.4f}')\n",
    "            else:\n",
    "                plt.title('LSTM Autoregressive Prediction')\n",
    "            \n",
    "            plt.axvline(x=sequence_length-1, color='k', linestyle='--', alpha=0.3)\n",
    "            plt.legend()\n",
    "            plt.xlabel('Time Steps')\n",
    "            plt.ylabel('Value')\n",
    "            xticks = np.concatenate([last_5_days_datetime, next_5_days_datetime])\n",
    "            plt.xticks(np.arange(0, len(xticks), 25), xticks[::25], rotation=45)\n",
    "            plt.tight_layout()\n",
    "            plt.savefig('lstm_prediction.png')\n",
    "            plt.show()\n",
    "            \n",
    "            return mse"
   ]
  },
  {
   "cell_type": "code",
   "execution_count": null,
   "metadata": {
    "deletable": false,
    "editable": false,
    "nbgrader": {
     "cell_type": "code",
     "checksum": "899095c0332f442c4557f6e4717dd76a",
     "grade": true,
     "grade_id": "cell-31c544fa069c029d",
     "locked": true,
     "points": 0,
     "schema_version": 3,
     "solution": false,
     "task": false
    }
   },
   "outputs": [],
   "source": [
    "# tests for StockPriceLSTM\n",
    "\n",
    "stock_price_lstm = StockPriceLSTM()\n"
   ]
  },
  {
   "cell_type": "code",
   "execution_count": null,
   "metadata": {
    "deletable": false,
    "nbgrader": {
     "cell_type": "code",
     "checksum": "e4a406f8809f11ad52e2f90d8948547e",
     "grade": false,
     "grade_id": "cell-192591c4a0801841",
     "locked": false,
     "schema_version": 3,
     "solution": true,
     "task": false
    }
   },
   "outputs": [],
   "source": [
    "# Use this cell to train your model. ⚠️ Remember to save the model weights by calling `save_model_weights()`\n",
    "# YOUR CODE HERE\n",
    "raise NotImplementedError()"
   ]
  },
  {
   "cell_type": "code",
   "execution_count": null,
   "metadata": {
    "deletable": false,
    "editable": false,
    "nbgrader": {
     "cell_type": "code",
     "checksum": "0189462958e3addbb0d113a0436fb0c1",
     "grade": false,
     "grade_id": "cell-b7fa96c1592b50f2",
     "locked": true,
     "schema_version": 3,
     "solution": false,
     "task": false
    }
   },
   "outputs": [],
   "source": [
    "def sanity_check():\n",
    "    model = StockPriceLSTM()\n",
    "    model.load_model_weights()\n",
    "    mse = model.predict_for_next_5_days() # this mse does not represent the actual performance of the model"
   ]
  },
  {
   "cell_type": "code",
   "execution_count": null,
   "metadata": {
    "deletable": false,
    "editable": false,
    "nbgrader": {
     "cell_type": "code",
     "checksum": "9801ec99b891ecb1b731c33f2740d422",
     "grade": false,
     "grade_id": "cell-e0d7deba0a2b9a7a",
     "locked": true,
     "schema_version": 3,
     "solution": false,
     "task": false
    }
   },
   "outputs": [],
   "source": [
    "sanity_check()"
   ]
  }
 ],
 "metadata": {
  "kernelspec": {
   "display_name": "Python 3 (ipykernel)",
   "language": "python",
   "name": "python3"
  },
  "language_info": {
   "codemirror_mode": {
    "name": "ipython",
    "version": 3
   },
   "file_extension": ".py",
   "mimetype": "text/x-python",
   "name": "python",
   "nbconvert_exporter": "python",
   "pygments_lexer": "ipython3",
   "version": "3.9.21"
  }
 },
 "nbformat": 4,
 "nbformat_minor": 4
}
